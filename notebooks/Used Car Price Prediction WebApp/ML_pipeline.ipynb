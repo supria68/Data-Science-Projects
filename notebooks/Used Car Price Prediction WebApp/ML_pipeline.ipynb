{
 "cells": [
  {
   "cell_type": "markdown",
   "metadata": {},
   "source": [
    "# Developing a Machine Learning Model for Used Car Price Prediction\n",
    "\n",
    "Predicting the price of a car(new or used) is a classic case of supervised learning. This notebook focuses on building a learning model to estimate the price of used cars in Germany.\n",
    "\n",
    "### Dataset:\n",
    "\n",
    "The dataset was originally scraped from eBay Kleinanzeigen, a classifieds section of the German eBay website. Since the dataset has personal information, it isn't uploaded anywhere. For the current project, only few columns are considered for model development. They are:\n",
    "\n",
    "| Column name | Description |\n",
    "|-------------|-------------|\n",
    "| Price | The selling price on the ad (in Euros) |  \n",
    "| Vehicle_type | The type of the vehicle |  \n",
    "| Year_of_registration | The year in which the car was first registered |  \n",
    "| Gearbox | The transmission type |\n",
    "| Model | Model name of the car |\n",
    "| Kms_driven | Number of kilometers driven by the car |\n",
    "| Fuel_type | Type of fuel the car uses |\n",
    "| Brand | The brand of the car |\n",
    "| Unrepaired_damages | Any damage to the car which is not yet repaired |  \n",
    "\n",
    "### Methodology:\n",
    "\n",
    "Here are the following steps taken into consideration in developing a prediction model.\n",
    "1. Data Cleaning - Outlier detection, Handling Missing values\n",
    "2. Data Visualization \n",
    "3. Feature Engineering - Encoding, Scaling and Selection\n",
    "4. Model Selection - Choosing the best regression model for prediction based on r2 score.\n",
    "5. Prediction and Evaluation"
   ]
  },
  {
   "cell_type": "code",
   "execution_count": 1,
   "metadata": {},
   "outputs": [],
   "source": [
    "# Basic Imports\n",
    "import pandas as pd\n",
    "import numpy as np\n",
    "import matplotlib.pyplot as plt\n",
    "import seaborn as sns"
   ]
  },
  {
   "cell_type": "code",
   "execution_count": 2,
   "metadata": {},
   "outputs": [],
   "source": [
    "import warnings\n",
    "warnings.filterwarnings('ignore')\n",
    "\n",
    "%matplotlib inline"
   ]
  },
  {
   "cell_type": "code",
   "execution_count": 3,
   "metadata": {},
   "outputs": [
    {
     "data": {
      "text/html": [
       "<div>\n",
       "<style scoped>\n",
       "    .dataframe tbody tr th:only-of-type {\n",
       "        vertical-align: middle;\n",
       "    }\n",
       "\n",
       "    .dataframe tbody tr th {\n",
       "        vertical-align: top;\n",
       "    }\n",
       "\n",
       "    .dataframe thead th {\n",
       "        text-align: right;\n",
       "    }\n",
       "</style>\n",
       "<table border=\"1\" class=\"dataframe\">\n",
       "  <thead>\n",
       "    <tr style=\"text-align: right;\">\n",
       "      <th></th>\n",
       "      <th>Price</th>\n",
       "      <th>Vehicle_type</th>\n",
       "      <th>Year_of_registration</th>\n",
       "      <th>Gearbox</th>\n",
       "      <th>Brand</th>\n",
       "      <th>Model</th>\n",
       "      <th>Kms_driven</th>\n",
       "      <th>Fuel_type</th>\n",
       "      <th>Unrepaired_damages</th>\n",
       "    </tr>\n",
       "  </thead>\n",
       "  <tbody>\n",
       "    <tr>\n",
       "      <th>0</th>\n",
       "      <td>480</td>\n",
       "      <td>NaN</td>\n",
       "      <td>1993</td>\n",
       "      <td>manuell</td>\n",
       "      <td>volkswagen</td>\n",
       "      <td>golf</td>\n",
       "      <td>150000</td>\n",
       "      <td>benzin</td>\n",
       "      <td>NaN</td>\n",
       "    </tr>\n",
       "    <tr>\n",
       "      <th>1</th>\n",
       "      <td>18300</td>\n",
       "      <td>coupe</td>\n",
       "      <td>2011</td>\n",
       "      <td>manuell</td>\n",
       "      <td>audi</td>\n",
       "      <td>NaN</td>\n",
       "      <td>125000</td>\n",
       "      <td>diesel</td>\n",
       "      <td>ja</td>\n",
       "    </tr>\n",
       "    <tr>\n",
       "      <th>2</th>\n",
       "      <td>9800</td>\n",
       "      <td>suv</td>\n",
       "      <td>2004</td>\n",
       "      <td>automatik</td>\n",
       "      <td>jeep</td>\n",
       "      <td>grand</td>\n",
       "      <td>125000</td>\n",
       "      <td>diesel</td>\n",
       "      <td>NaN</td>\n",
       "    </tr>\n",
       "    <tr>\n",
       "      <th>3</th>\n",
       "      <td>1500</td>\n",
       "      <td>kleinwagen</td>\n",
       "      <td>2001</td>\n",
       "      <td>manuell</td>\n",
       "      <td>volkswagen</td>\n",
       "      <td>golf</td>\n",
       "      <td>150000</td>\n",
       "      <td>benzin</td>\n",
       "      <td>nein</td>\n",
       "    </tr>\n",
       "    <tr>\n",
       "      <th>4</th>\n",
       "      <td>3600</td>\n",
       "      <td>kleinwagen</td>\n",
       "      <td>2008</td>\n",
       "      <td>manuell</td>\n",
       "      <td>skoda</td>\n",
       "      <td>fabia</td>\n",
       "      <td>90000</td>\n",
       "      <td>diesel</td>\n",
       "      <td>nein</td>\n",
       "    </tr>\n",
       "  </tbody>\n",
       "</table>\n",
       "</div>"
      ],
      "text/plain": [
       "   Price Vehicle_type  Year_of_registration    Gearbox       Brand  Model  \\\n",
       "0    480          NaN                  1993    manuell  volkswagen   golf   \n",
       "1  18300        coupe                  2011    manuell        audi    NaN   \n",
       "2   9800          suv                  2004  automatik        jeep  grand   \n",
       "3   1500   kleinwagen                  2001    manuell  volkswagen   golf   \n",
       "4   3600   kleinwagen                  2008    manuell       skoda  fabia   \n",
       "\n",
       "   Kms_driven Fuel_type Unrepaired_damages  \n",
       "0      150000    benzin                NaN  \n",
       "1      125000    diesel                 ja  \n",
       "2      125000    diesel                NaN  \n",
       "3      150000    benzin               nein  \n",
       "4       90000    diesel               nein  "
      ]
     },
     "execution_count": 3,
     "metadata": {},
     "output_type": "execute_result"
    }
   ],
   "source": [
    "# Loading the dataset\n",
    "\n",
    "data = pd.read_csv('car_data.csv', encoding = \"ISO-8859-1\")\n",
    "\n",
    "# Choosing the columns of intereset\n",
    "car_data = data[['price','vehicleType','yearOfRegistration','gearbox','brand','model','kilometer','fuelType','notRepairedDamage']]\n",
    "\n",
    "# change the column names\n",
    "car_data.columns = ['Price', 'Vehicle_type', 'Year_of_registration', 'Gearbox', 'Brand', 'Model',\n",
    "       'Kms_driven', 'Fuel_type', 'Unrepaired_damages']\n",
    "\n",
    "car_data.head()"
   ]
  },
  {
   "cell_type": "markdown",
   "metadata": {},
   "source": [
    "### 1. Data Cleaning\n",
    "\n",
    "This process involves handling the missing values in the dataset by removing any outliers (unusual high/low entries), which might affect in the model prediction.\n",
    "\n",
    "##### 1.1 Handling Outliers using Inter-Quantile Range (IQR) method\n",
    "\n",
    "Let's look at the statistical analysis of the numerical columns in the dataset."
   ]
  },
  {
   "cell_type": "code",
   "execution_count": 4,
   "metadata": {},
   "outputs": [
    {
     "data": {
      "text/html": [
       "<div>\n",
       "<style scoped>\n",
       "    .dataframe tbody tr th:only-of-type {\n",
       "        vertical-align: middle;\n",
       "    }\n",
       "\n",
       "    .dataframe tbody tr th {\n",
       "        vertical-align: top;\n",
       "    }\n",
       "\n",
       "    .dataframe thead th {\n",
       "        text-align: right;\n",
       "    }\n",
       "</style>\n",
       "<table border=\"1\" class=\"dataframe\">\n",
       "  <thead>\n",
       "    <tr style=\"text-align: right;\">\n",
       "      <th></th>\n",
       "      <th>Price</th>\n",
       "      <th>Year_of_registration</th>\n",
       "      <th>Kms_driven</th>\n",
       "    </tr>\n",
       "  </thead>\n",
       "  <tbody>\n",
       "    <tr>\n",
       "      <th>count</th>\n",
       "      <td>3.413270e+05</td>\n",
       "      <td>341327.000000</td>\n",
       "      <td>341327.000000</td>\n",
       "    </tr>\n",
       "    <tr>\n",
       "      <th>mean</th>\n",
       "      <td>1.791384e+04</td>\n",
       "      <td>2004.613154</td>\n",
       "      <td>125320.279380</td>\n",
       "    </tr>\n",
       "    <tr>\n",
       "      <th>std</th>\n",
       "      <td>3.739368e+06</td>\n",
       "      <td>96.871682</td>\n",
       "      <td>40289.529824</td>\n",
       "    </tr>\n",
       "    <tr>\n",
       "      <th>min</th>\n",
       "      <td>0.000000e+00</td>\n",
       "      <td>1000.000000</td>\n",
       "      <td>5000.000000</td>\n",
       "    </tr>\n",
       "    <tr>\n",
       "      <th>25%</th>\n",
       "      <td>1.050000e+03</td>\n",
       "      <td>1999.000000</td>\n",
       "      <td>100000.000000</td>\n",
       "    </tr>\n",
       "    <tr>\n",
       "      <th>50%</th>\n",
       "      <td>2.800000e+03</td>\n",
       "      <td>2003.000000</td>\n",
       "      <td>150000.000000</td>\n",
       "    </tr>\n",
       "    <tr>\n",
       "      <th>75%</th>\n",
       "      <td>7.000000e+03</td>\n",
       "      <td>2008.000000</td>\n",
       "      <td>150000.000000</td>\n",
       "    </tr>\n",
       "    <tr>\n",
       "      <th>max</th>\n",
       "      <td>2.147484e+09</td>\n",
       "      <td>9999.000000</td>\n",
       "      <td>150000.000000</td>\n",
       "    </tr>\n",
       "  </tbody>\n",
       "</table>\n",
       "</div>"
      ],
      "text/plain": [
       "              Price  Year_of_registration     Kms_driven\n",
       "count  3.413270e+05         341327.000000  341327.000000\n",
       "mean   1.791384e+04           2004.613154  125320.279380\n",
       "std    3.739368e+06             96.871682   40289.529824\n",
       "min    0.000000e+00           1000.000000    5000.000000\n",
       "25%    1.050000e+03           1999.000000  100000.000000\n",
       "50%    2.800000e+03           2003.000000  150000.000000\n",
       "75%    7.000000e+03           2008.000000  150000.000000\n",
       "max    2.147484e+09           9999.000000  150000.000000"
      ]
     },
     "execution_count": 4,
     "metadata": {},
     "output_type": "execute_result"
    }
   ],
   "source": [
    "car_data.describe()"
   ]
  },
  {
   "cell_type": "markdown",
   "metadata": {},
   "source": [
    "As seen from the above table, it's clear that there are outliers (surely it's not possible to have an year of 9999, or extremely large price in the order of 10<sup>9</sup>) present in this dataset. To remove such outliers, let's use the Inter-Quantile Range (IQR)<sup>[1]</sup> method. "
   ]
  },
  {
   "cell_type": "code",
   "execution_count": 5,
   "metadata": {},
   "outputs": [],
   "source": [
    "def outlier_detect(df):\n",
    "    \"\"\" \n",
    "    This function performs the following:\n",
    "    1. Calculate the first(q1 ~25%) and third quartile(q3 ~75%) \n",
    "    2. Calculate IQR = q3 - q1\n",
    "    3. Find the upper and lower bounds(outer and inner layers)\n",
    "        a. upper bound = q3 + 1.5 * iqr\n",
    "        b. lower bound = q1 - 1.5 * iqr\n",
    "    4. Any data that falls outside the two bounds is an outlier!\n",
    "    5. Replace such outliers with the nearest bounds\n",
    "    \"\"\"\n",
    "    \n",
    "    for col in df.describe().columns:\n",
    "        q1, q3 = np.percentile(df[col], [25,75])\n",
    "        iqr = q3 - q1\n",
    "        lower_bound = q1 - 1.5 * iqr\n",
    "        upper_bound = q3 + 1.5 * iqr\n",
    "        \n",
    "        df[col] = df[col].mask(df[col] < lower_bound, lower_bound) \n",
    "        df[col] = df[col].mask(df[col] > upper_bound, upper_bound) \n",
    "    return df"
   ]
  },
  {
   "cell_type": "code",
   "execution_count": 6,
   "metadata": {},
   "outputs": [],
   "source": [
    "# handling outliers\n",
    "car_data = outlier_detect(car_data)"
   ]
  },
  {
   "cell_type": "markdown",
   "metadata": {},
   "source": [
    "Let's look at the statistical analysis again to check if the outliers issue is resolved."
   ]
  },
  {
   "cell_type": "code",
   "execution_count": 7,
   "metadata": {},
   "outputs": [
    {
     "data": {
      "text/html": [
       "<div>\n",
       "<style scoped>\n",
       "    .dataframe tbody tr th:only-of-type {\n",
       "        vertical-align: middle;\n",
       "    }\n",
       "\n",
       "    .dataframe tbody tr th {\n",
       "        vertical-align: top;\n",
       "    }\n",
       "\n",
       "    .dataframe thead th {\n",
       "        text-align: right;\n",
       "    }\n",
       "</style>\n",
       "<table border=\"1\" class=\"dataframe\">\n",
       "  <thead>\n",
       "    <tr style=\"text-align: right;\">\n",
       "      <th></th>\n",
       "      <th>Price</th>\n",
       "      <th>Year_of_registration</th>\n",
       "      <th>Kms_driven</th>\n",
       "    </tr>\n",
       "  </thead>\n",
       "  <tbody>\n",
       "    <tr>\n",
       "      <th>count</th>\n",
       "      <td>341327.000000</td>\n",
       "      <td>341327.000000</td>\n",
       "      <td>341327.000000</td>\n",
       "    </tr>\n",
       "    <tr>\n",
       "      <th>mean</th>\n",
       "      <td>4793.404146</td>\n",
       "      <td>2003.503706</td>\n",
       "      <td>125869.210464</td>\n",
       "    </tr>\n",
       "    <tr>\n",
       "      <th>std</th>\n",
       "      <td>4871.511068</td>\n",
       "      <td>7.001989</td>\n",
       "      <td>38773.376947</td>\n",
       "    </tr>\n",
       "    <tr>\n",
       "      <th>min</th>\n",
       "      <td>0.000000</td>\n",
       "      <td>1985.500000</td>\n",
       "      <td>25000.000000</td>\n",
       "    </tr>\n",
       "    <tr>\n",
       "      <th>25%</th>\n",
       "      <td>1050.000000</td>\n",
       "      <td>1999.000000</td>\n",
       "      <td>100000.000000</td>\n",
       "    </tr>\n",
       "    <tr>\n",
       "      <th>50%</th>\n",
       "      <td>2800.000000</td>\n",
       "      <td>2003.000000</td>\n",
       "      <td>150000.000000</td>\n",
       "    </tr>\n",
       "    <tr>\n",
       "      <th>75%</th>\n",
       "      <td>7000.000000</td>\n",
       "      <td>2008.000000</td>\n",
       "      <td>150000.000000</td>\n",
       "    </tr>\n",
       "    <tr>\n",
       "      <th>max</th>\n",
       "      <td>15925.000000</td>\n",
       "      <td>2021.500000</td>\n",
       "      <td>150000.000000</td>\n",
       "    </tr>\n",
       "  </tbody>\n",
       "</table>\n",
       "</div>"
      ],
      "text/plain": [
       "               Price  Year_of_registration     Kms_driven\n",
       "count  341327.000000         341327.000000  341327.000000\n",
       "mean     4793.404146           2003.503706  125869.210464\n",
       "std      4871.511068              7.001989   38773.376947\n",
       "min         0.000000           1985.500000   25000.000000\n",
       "25%      1050.000000           1999.000000  100000.000000\n",
       "50%      2800.000000           2003.000000  150000.000000\n",
       "75%      7000.000000           2008.000000  150000.000000\n",
       "max     15925.000000           2021.500000  150000.000000"
      ]
     },
     "execution_count": 7,
     "metadata": {},
     "output_type": "execute_result"
    }
   ],
   "source": [
    "car_data.describe()"
   ]
  },
  {
   "cell_type": "markdown",
   "metadata": {},
   "source": [
    "##### 1.2 Handling Missing Values\n",
    "\n",
    "Let's look if the dataset has any missing values. If so, how to deal with it..."
   ]
  },
  {
   "cell_type": "code",
   "execution_count": 8,
   "metadata": {},
   "outputs": [
    {
     "data": {
      "text/plain": [
       "<matplotlib.axes._subplots.AxesSubplot at 0x7f423713b350>"
      ]
     },
     "execution_count": 8,
     "metadata": {},
     "output_type": "execute_result"
    },
    {
     "data": {
      "image/png": "[encoded data removed]",
      "text/plain": [
       "<Figure size 432x288 with 1 Axes>"
      ]
     },
     "metadata": {
      "needs_background": "light"
     },
     "output_type": "display_data"
    }
   ],
   "source": [
    "car_data.isnull().sum().plot(kind = 'bar')"
   ]
  },
  {
   "cell_type": "markdown",
   "metadata": {},
   "source": [
    "It's only the categorical columns which has the missing values, let's follow the Imputation technique to replace them. That is, if it's a categorical column, then replace the missing values with 'the most frequent' value and if it's a numerical column, then replace missing values with the 'mean of that column'."
   ]
  },
  {
   "cell_type": "code",
   "execution_count": 9,
   "metadata": {},
   "outputs": [],
   "source": [
    "from sklearn.base import TransformerMixin\n",
    "\n",
    "class SeriesImputer(TransformerMixin):\n",
    "\n",
    "    def __init__(self):\n",
    "        \"\"\"Impute missing values.\n",
    "\n",
    "        If the Series is of dtype Object, then impute with the most frequent object.\n",
    "        If the Series is not of dtype Object, then impute with the mean.  \n",
    "\n",
    "        \"\"\"\n",
    "    def fit(self, X, y = None):\n",
    "        if X.dtype == np.dtype('O'): \n",
    "            self.fill = X.value_counts().index[0]\n",
    "        else: \n",
    "            self.fill = X.mean()\n",
    "        return self\n",
    "\n",
    "    def transform(self, X, y = None):\n",
    "       return X.fillna(self.fill)"
   ]
  },
  {
   "cell_type": "code",
   "execution_count": 10,
   "metadata": {},
   "outputs": [
    {
     "data": {
      "text/plain": [
       "<matplotlib.axes._subplots.AxesSubplot at 0x7f42399a8690>"
      ]
     },
     "execution_count": 10,
     "metadata": {},
     "output_type": "execute_result"
    },
    {
     "data": {
      "image/png": "[encoded data removed]",
      "text/plain": [
       "<Figure size 432x288 with 1 Axes>"
      ]
     },
     "metadata": {
      "needs_background": "light"
     },
     "output_type": "display_data"
    }
   ],
   "source": [
    "# consider the columns that have missing values\n",
    "cols = ['Vehicle_type', 'Gearbox' , 'Model', 'Fuel_type', 'Unrepaired_damages']\n",
    "\n",
    "imputer = SeriesImputer()\n",
    "for col in cols:\n",
    "    car_data[col] = imputer.fit_transform(car_data[col])\n",
    "\n",
    "car_data.isnull().sum().plot(kind = 'bar')  # The plot must have no missing values..."
   ]
  },
  {
   "cell_type": "markdown",
   "metadata": {},
   "source": [
    "Dataset is now free from missing values. \n",
    "\n",
    "##### 1.3 Fixing the dataset\n",
    "This involves \n",
    "- deriving any additional features for visualization or model development\n",
    "- removing duplicate entries\n",
    "- fixing the datatypes of numerical columns\n",
    "- Translating the 'German' words in categorical column to 'English' words\n",
    "\n",
    "Let's derive another feature from the existing column representing the used-car's age (how old is you car?)."
   ]
  },
  {
   "cell_type": "code",
   "execution_count": 11,
   "metadata": {},
   "outputs": [
    {
     "data": {
      "text/html": [
       "<div>\n",
       "<style scoped>\n",
       "    .dataframe tbody tr th:only-of-type {\n",
       "        vertical-align: middle;\n",
       "    }\n",
       "\n",
       "    .dataframe tbody tr th {\n",
       "        vertical-align: top;\n",
       "    }\n",
       "\n",
       "    .dataframe thead th {\n",
       "        text-align: right;\n",
       "    }\n",
       "</style>\n",
       "<table border=\"1\" class=\"dataframe\">\n",
       "  <thead>\n",
       "    <tr style=\"text-align: right;\">\n",
       "      <th></th>\n",
       "      <th>Price</th>\n",
       "      <th>Vehicle_type</th>\n",
       "      <th>Year_of_registration</th>\n",
       "      <th>Gearbox</th>\n",
       "      <th>Brand</th>\n",
       "      <th>Model</th>\n",
       "      <th>Kms_driven</th>\n",
       "      <th>Fuel_type</th>\n",
       "      <th>Unrepaired_damages</th>\n",
       "      <th>Age_of_car</th>\n",
       "    </tr>\n",
       "  </thead>\n",
       "  <tbody>\n",
       "    <tr>\n",
       "      <th>0</th>\n",
       "      <td>480</td>\n",
       "      <td>limousine</td>\n",
       "      <td>1993.0</td>\n",
       "      <td>manuell</td>\n",
       "      <td>volkswagen</td>\n",
       "      <td>golf</td>\n",
       "      <td>150000</td>\n",
       "      <td>benzin</td>\n",
       "      <td>nein</td>\n",
       "      <td>27.0</td>\n",
       "    </tr>\n",
       "    <tr>\n",
       "      <th>1</th>\n",
       "      <td>15925</td>\n",
       "      <td>coupe</td>\n",
       "      <td>2011.0</td>\n",
       "      <td>manuell</td>\n",
       "      <td>audi</td>\n",
       "      <td>golf</td>\n",
       "      <td>125000</td>\n",
       "      <td>diesel</td>\n",
       "      <td>ja</td>\n",
       "      <td>9.0</td>\n",
       "    </tr>\n",
       "    <tr>\n",
       "      <th>2</th>\n",
       "      <td>9800</td>\n",
       "      <td>suv</td>\n",
       "      <td>2004.0</td>\n",
       "      <td>automatik</td>\n",
       "      <td>jeep</td>\n",
       "      <td>grand</td>\n",
       "      <td>125000</td>\n",
       "      <td>diesel</td>\n",
       "      <td>nein</td>\n",
       "      <td>16.0</td>\n",
       "    </tr>\n",
       "    <tr>\n",
       "      <th>3</th>\n",
       "      <td>1500</td>\n",
       "      <td>kleinwagen</td>\n",
       "      <td>2001.0</td>\n",
       "      <td>manuell</td>\n",
       "      <td>volkswagen</td>\n",
       "      <td>golf</td>\n",
       "      <td>150000</td>\n",
       "      <td>benzin</td>\n",
       "      <td>nein</td>\n",
       "      <td>19.0</td>\n",
       "    </tr>\n",
       "    <tr>\n",
       "      <th>4</th>\n",
       "      <td>3600</td>\n",
       "      <td>kleinwagen</td>\n",
       "      <td>2008.0</td>\n",
       "      <td>manuell</td>\n",
       "      <td>skoda</td>\n",
       "      <td>fabia</td>\n",
       "      <td>90000</td>\n",
       "      <td>diesel</td>\n",
       "      <td>nein</td>\n",
       "      <td>12.0</td>\n",
       "    </tr>\n",
       "  </tbody>\n",
       "</table>\n",
       "</div>"
      ],
      "text/plain": [
       "   Price Vehicle_type  Year_of_registration    Gearbox       Brand  Model  \\\n",
       "0    480    limousine                1993.0    manuell  volkswagen   golf   \n",
       "1  15925        coupe                2011.0    manuell        audi   golf   \n",
       "2   9800          suv                2004.0  automatik        jeep  grand   \n",
       "3   1500   kleinwagen                2001.0    manuell  volkswagen   golf   \n",
       "4   3600   kleinwagen                2008.0    manuell       skoda  fabia   \n",
       "\n",
       "   Kms_driven Fuel_type Unrepaired_damages  Age_of_car  \n",
       "0      150000    benzin               nein        27.0  \n",
       "1      125000    diesel                 ja         9.0  \n",
       "2      125000    diesel               nein        16.0  \n",
       "3      150000    benzin               nein        19.0  \n",
       "4       90000    diesel               nein        12.0  "
      ]
     },
     "execution_count": 11,
     "metadata": {},
     "output_type": "execute_result"
    }
   ],
   "source": [
    "car_data['Current_year'] = 2020\n",
    "car_data['Age_of_car'] = car_data['Current_year'] - car_data['Year_of_registration']\n",
    "car_data.drop('Current_year', axis = 1, inplace = True)\n",
    "\n",
    "# What if there is a car planned to register in 2021?\n",
    "car_data.drop(car_data[car_data['Age_of_car'] < 0].index, inplace = True)\n",
    "\n",
    "car_data.head()"
   ]
  },
  {
   "cell_type": "markdown",
   "metadata": {},
   "source": [
    "Let's look at the datatypes of each columns."
   ]
  },
  {
   "cell_type": "code",
   "execution_count": 12,
   "metadata": {},
   "outputs": [
    {
     "name": "stdout",
     "output_type": "stream",
     "text": [
      "<class 'pandas.core.frame.DataFrame'>\n",
      "Int64Index: 341213 entries, 0 to 341326\n",
      "Data columns (total 10 columns):\n",
      " #   Column                Non-Null Count   Dtype  \n",
      "---  ------                --------------   -----  \n",
      " 0   Price                 341213 non-null  int64  \n",
      " 1   Vehicle_type          341213 non-null  object \n",
      " 2   Year_of_registration  341213 non-null  float64\n",
      " 3   Gearbox               341213 non-null  object \n",
      " 4   Brand                 341213 non-null  object \n",
      " 5   Model                 341213 non-null  object \n",
      " 6   Kms_driven            341213 non-null  int64  \n",
      " 7   Fuel_type             341213 non-null  object \n",
      " 8   Unrepaired_damages    341213 non-null  object \n",
      " 9   Age_of_car            341213 non-null  float64\n",
      "dtypes: float64(2), int64(2), object(6)\n",
      "memory usage: 28.6+ MB\n"
     ]
    }
   ],
   "source": [
    "car_data.info()"
   ]
  },
  {
   "cell_type": "code",
   "execution_count": 13,
   "metadata": {},
   "outputs": [],
   "source": [
    "# Fixing the datatypes of numerical columns\n",
    "car_data[['Price','Kms_driven']] = car_data[['Price','Kms_driven']].astype(float)\n",
    "car_data[['Year_of_registration','Age_of_car']] = car_data[['Year_of_registration','Age_of_car']].astype(int)"
   ]
  },
  {
   "cell_type": "code",
   "execution_count": 14,
   "metadata": {},
   "outputs": [
    {
     "data": {
      "text/plain": [
       "(241146, 10)"
      ]
     },
     "execution_count": 14,
     "metadata": {},
     "output_type": "execute_result"
    }
   ],
   "source": [
    "# remove duplicate items\n",
    "if car_data.duplicated().any():\n",
    "   car_data.drop_duplicates(inplace = True)\n",
    "\n",
    "car_data.shape"
   ]
  },
  {
   "cell_type": "code",
   "execution_count": 15,
   "metadata": {},
   "outputs": [
    {
     "data": {
      "text/plain": [
       "array(['limousine', 'coupe', 'suv', 'kleinwagen', 'cabrio', 'kombi',\n",
       "       'andere'], dtype=object)"
      ]
     },
     "metadata": {},
     "output_type": "display_data"
    },
    {
     "data": {
      "text/plain": [
       "array(['manuell', 'automatik'], dtype=object)"
      ]
     },
     "metadata": {},
     "output_type": "display_data"
    },
    {
     "data": {
      "text/plain": [
       "array(['benzin', 'diesel', 'lpg', 'andere', 'hybrid', 'cng', 'elektro'],\n",
       "      dtype=object)"
      ]
     },
     "metadata": {},
     "output_type": "display_data"
    },
    {
     "data": {
      "text/plain": [
       "array(['nein', 'ja'], dtype=object)"
      ]
     },
     "metadata": {},
     "output_type": "display_data"
    }
   ],
   "source": [
    "# Translate the 'German words' to english!\n",
    "\n",
    "display(car_data['Vehicle_type'].unique())\n",
    "display(car_data['Gearbox'].unique())\n",
    "display(car_data['Fuel_type'].unique())\n",
    "display(car_data['Unrepaired_damages'].unique())"
   ]
  },
  {
   "cell_type": "code",
   "execution_count": 16,
   "metadata": {},
   "outputs": [],
   "source": [
    "car_data['Vehicle_type'] = car_data['Vehicle_type'].str.replace('kombi','combi').replace('kleinwagen','small car').replace('cabrio','convertible').replace('andere','other')\n",
    "\n",
    "car_data['Gearbox'] = car_data['Gearbox'].str.replace('manuell','Manual').replace('automatik','Automatic')\n",
    "\n",
    "car_data['Fuel_type'] = car_data['Fuel_type'].str.replace('benzin','petrol').replace('elektro','electric').replace('andere','other')\n",
    "\n",
    "car_data['Unrepaired_damages'] = car_data['Unrepaired_damages'].str.replace('nein','No').replace('ja', 'Yes')"
   ]
  },
  {
   "cell_type": "code",
   "execution_count": 17,
   "metadata": {},
   "outputs": [
    {
     "data": {
      "text/html": [
       "<div>\n",
       "<style scoped>\n",
       "    .dataframe tbody tr th:only-of-type {\n",
       "        vertical-align: middle;\n",
       "    }\n",
       "\n",
       "    .dataframe tbody tr th {\n",
       "        vertical-align: top;\n",
       "    }\n",
       "\n",
       "    .dataframe thead th {\n",
       "        text-align: right;\n",
       "    }\n",
       "</style>\n",
       "<table border=\"1\" class=\"dataframe\">\n",
       "  <thead>\n",
       "    <tr style=\"text-align: right;\">\n",
       "      <th></th>\n",
       "      <th>Price</th>\n",
       "      <th>Vehicle_type</th>\n",
       "      <th>Year_of_registration</th>\n",
       "      <th>Gearbox</th>\n",
       "      <th>Brand</th>\n",
       "      <th>Model</th>\n",
       "      <th>Kms_driven</th>\n",
       "      <th>Fuel_type</th>\n",
       "      <th>Unrepaired_damages</th>\n",
       "      <th>Age_of_car</th>\n",
       "    </tr>\n",
       "  </thead>\n",
       "  <tbody>\n",
       "    <tr>\n",
       "      <th>0</th>\n",
       "      <td>480.0</td>\n",
       "      <td>limousine</td>\n",
       "      <td>1993</td>\n",
       "      <td>Manual</td>\n",
       "      <td>volkswagen</td>\n",
       "      <td>golf</td>\n",
       "      <td>150000.0</td>\n",
       "      <td>petrol</td>\n",
       "      <td>No</td>\n",
       "      <td>27</td>\n",
       "    </tr>\n",
       "    <tr>\n",
       "      <th>1</th>\n",
       "      <td>15925.0</td>\n",
       "      <td>coupe</td>\n",
       "      <td>2011</td>\n",
       "      <td>Manual</td>\n",
       "      <td>audi</td>\n",
       "      <td>golf</td>\n",
       "      <td>125000.0</td>\n",
       "      <td>diesel</td>\n",
       "      <td>Yes</td>\n",
       "      <td>9</td>\n",
       "    </tr>\n",
       "    <tr>\n",
       "      <th>2</th>\n",
       "      <td>9800.0</td>\n",
       "      <td>suv</td>\n",
       "      <td>2004</td>\n",
       "      <td>Automatic</td>\n",
       "      <td>jeep</td>\n",
       "      <td>grand</td>\n",
       "      <td>125000.0</td>\n",
       "      <td>diesel</td>\n",
       "      <td>No</td>\n",
       "      <td>16</td>\n",
       "    </tr>\n",
       "    <tr>\n",
       "      <th>3</th>\n",
       "      <td>1500.0</td>\n",
       "      <td>small car</td>\n",
       "      <td>2001</td>\n",
       "      <td>Manual</td>\n",
       "      <td>volkswagen</td>\n",
       "      <td>golf</td>\n",
       "      <td>150000.0</td>\n",
       "      <td>petrol</td>\n",
       "      <td>No</td>\n",
       "      <td>19</td>\n",
       "    </tr>\n",
       "    <tr>\n",
       "      <th>4</th>\n",
       "      <td>3600.0</td>\n",
       "      <td>small car</td>\n",
       "      <td>2008</td>\n",
       "      <td>Manual</td>\n",
       "      <td>skoda</td>\n",
       "      <td>fabia</td>\n",
       "      <td>90000.0</td>\n",
       "      <td>diesel</td>\n",
       "      <td>No</td>\n",
       "      <td>12</td>\n",
       "    </tr>\n",
       "  </tbody>\n",
       "</table>\n",
       "</div>"
      ],
      "text/plain": [
       "     Price Vehicle_type  Year_of_registration    Gearbox       Brand  Model  \\\n",
       "0    480.0    limousine                  1993     Manual  volkswagen   golf   \n",
       "1  15925.0        coupe                  2011     Manual        audi   golf   \n",
       "2   9800.0          suv                  2004  Automatic        jeep  grand   \n",
       "3   1500.0    small car                  2001     Manual  volkswagen   golf   \n",
       "4   3600.0    small car                  2008     Manual       skoda  fabia   \n",
       "\n",
       "   Kms_driven Fuel_type Unrepaired_damages  Age_of_car  \n",
       "0    150000.0    petrol                 No          27  \n",
       "1    125000.0    diesel                Yes           9  \n",
       "2    125000.0    diesel                 No          16  \n",
       "3    150000.0    petrol                 No          19  \n",
       "4     90000.0    diesel                 No          12  "
      ]
     },
     "execution_count": 17,
     "metadata": {},
     "output_type": "execute_result"
    }
   ],
   "source": [
    "car_data.head()"
   ]
  },
  {
   "cell_type": "markdown",
   "metadata": {},
   "source": [
    "##### 1.4 Save Cleaned Dataset\n",
    "\n",
    "Now that the data is completely cleaned, let's save it for future analysis."
   ]
  },
  {
   "cell_type": "code",
   "execution_count": 18,
   "metadata": {},
   "outputs": [],
   "source": [
    "car_data.to_csv('cleaned_car_data.csv', index = False)"
   ]
  },
  {
   "cell_type": "markdown",
   "metadata": {},
   "source": [
    "### 2. Exploratory Data Analysis\n",
    "\n",
    "This step involves various plots using Seaborn and Matplotlib to understand the features and their correlation with the target column 'Price'"
   ]
  },
  {
   "cell_type": "code",
   "execution_count": 19,
   "metadata": {},
   "outputs": [],
   "source": [
    "def categorical_eda(cols,df):\n",
    "    \"\"\"This function performs the count plots on various categorical columns in the dataset\"\"\"\n",
    "    for col in cols:\n",
    "        fig = sns.catplot(x = col, kind = \"count\", data = df)\n",
    "        fig.set_xticklabels(rotation = 45)\n",
    "        plt.show()"
   ]
  },
  {
   "cell_type": "code",
   "execution_count": 20,
   "metadata": {},
   "outputs": [
    {
     "data": {
      "image/png": "[encoded data removed]",
      "text/plain": [
       "<Figure size 360x360 with 1 Axes>"
      ]
     },
     "metadata": {
      "needs_background": "light"
     },
     "output_type": "display_data"
    },
    {
     "data": {
      "image/png": "[encoded data removed]",
      "text/plain": [
       "<Figure size 360x360 with 1 Axes>"
      ]
     },
     "metadata": {
      "needs_background": "light"
     },
     "output_type": "display_data"
    },
    {
     "data": {
      "image/png": "[encoded data removed]",
      "text/plain": [
       "<Figure size 360x360 with 1 Axes>"
      ]
     },
     "metadata": {
      "needs_background": "light"
     },
     "output_type": "display_data"
    }
   ],
   "source": [
    "cols = ['Vehicle_type','Gearbox','Fuel_type']\n",
    "categorical_eda(cols, car_data)"
   ]
  },
  {
   "cell_type": "markdown",
   "metadata": {},
   "source": [
    "###### Insights:\n",
    "    - Most of the cars put up for sale are of type 'Limousine', followed by 'Small cars' and 'combi'\n",
    "    - More than 70% of cars are of petrol and manual-gear types.\n",
    "\n",
    "Let's identify the most popular car brand in the listing."
   ]
  },
  {
   "cell_type": "code",
   "execution_count": 21,
   "metadata": {},
   "outputs": [
    {
     "data": {
      "image/png": "[encoded data removed]",
      "text/plain": [
       "<Figure size 720x360 with 1 Axes>"
      ]
     },
     "metadata": {
      "needs_background": "light"
     },
     "output_type": "display_data"
    }
   ],
   "source": [
    "brand_s = car_data['Brand'].value_counts(normalize = True).sort_values(ascending = False)\n",
    "a = brand_s >= 0.015 # considering only top brand that make 1.5% of listings!\n",
    "top_brands = list(brand_s[:sum(a) + 1].index)\n",
    "\n",
    "plt.figure(figsize = (10,5))\n",
    "plt.bar(top_brands, brand_s[:sum(a) + 1])\n",
    "plt.xticks(rotation = 90)\n",
    "plt.title('Most Popular Car Brands in the Dataset')\n",
    "plt.xlabel('Brands')\n",
    "plt.show()"
   ]
  },
  {
   "cell_type": "markdown",
   "metadata": {},
   "source": [
    "###### Insights:\n",
    "    Around 16% of the cars listed in the dataset is of brand Volkswagen, followed by BMW (11%) and Mercedes Benz (10%)\n",
    "\n",
    "Let's look at the average price, average age and mileage(Kms_driven) of the popular brands."
   ]
  },
  {
   "cell_type": "code",
   "execution_count": 22,
   "metadata": {},
   "outputs": [],
   "source": [
    "car_mean_price = car_data.groupby('Brand')['Price'].mean()\n",
    "car_mean_mileage = car_data.groupby('Brand')['Kms_driven'].mean()\n",
    "car_mean_age = car_data.groupby('Brand')['Age_of_car'].mean()\n",
    "\n",
    "mean_price_top_brands = []\n",
    "mean_mileage_top_brands = []\n",
    "mean_age_top_brands = []\n",
    "\n",
    "for brand in top_brands:\n",
    "    mean_price_top_brands.append(car_mean_price[brand]) #Price\n",
    "    mean_mileage_top_brands.append(car_mean_mileage[brand]) #Mileage\n",
    "    mean_age_top_brands.append(car_mean_age[brand]) #Age\n",
    "    \n",
    "top_brand_price = dict(zip(top_brands, mean_price_top_brands))\n",
    "top_brand_mileage = dict(zip(top_brands, mean_mileage_top_brands))\n",
    "top_brand_age = dict(zip(top_brands, mean_age_top_brands))"
   ]
  },
  {
   "cell_type": "code",
   "execution_count": 23,
   "metadata": {},
   "outputs": [
    {
     "data": {
      "text/html": [
       "<div>\n",
       "<style scoped>\n",
       "    .dataframe tbody tr th:only-of-type {\n",
       "        vertical-align: middle;\n",
       "    }\n",
       "\n",
       "    .dataframe tbody tr th {\n",
       "        vertical-align: top;\n",
       "    }\n",
       "\n",
       "    .dataframe thead th {\n",
       "        text-align: right;\n",
       "    }\n",
       "</style>\n",
       "<table border=\"1\" class=\"dataframe\">\n",
       "  <thead>\n",
       "    <tr style=\"text-align: right;\">\n",
       "      <th></th>\n",
       "      <th>Avg_Sell_Price</th>\n",
       "      <th>Avg_Kms_driven</th>\n",
       "      <th>Avg_age</th>\n",
       "    </tr>\n",
       "  </thead>\n",
       "  <tbody>\n",
       "    <tr>\n",
       "      <th>volkswagen</th>\n",
       "      <td>4689.720430</td>\n",
       "      <td>124323.405908</td>\n",
       "      <td>17.0</td>\n",
       "    </tr>\n",
       "    <tr>\n",
       "      <th>bmw</th>\n",
       "      <td>6683.109243</td>\n",
       "      <td>132630.365780</td>\n",
       "      <td>17.0</td>\n",
       "    </tr>\n",
       "    <tr>\n",
       "      <th>mercedes_benz</th>\n",
       "      <td>6093.495000</td>\n",
       "      <td>131612.184874</td>\n",
       "      <td>18.0</td>\n",
       "    </tr>\n",
       "    <tr>\n",
       "      <th>opel</th>\n",
       "      <td>3032.538827</td>\n",
       "      <td>123607.448630</td>\n",
       "      <td>17.0</td>\n",
       "    </tr>\n",
       "    <tr>\n",
       "      <th>audi</th>\n",
       "      <td>6717.803961</td>\n",
       "      <td>131491.736280</td>\n",
       "      <td>17.0</td>\n",
       "    </tr>\n",
       "    <tr>\n",
       "      <th>ford</th>\n",
       "      <td>3188.706058</td>\n",
       "      <td>120383.766040</td>\n",
       "      <td>17.0</td>\n",
       "    </tr>\n",
       "    <tr>\n",
       "      <th>renault</th>\n",
       "      <td>2427.224607</td>\n",
       "      <td>122758.107983</td>\n",
       "      <td>16.0</td>\n",
       "    </tr>\n",
       "    <tr>\n",
       "      <th>peugeot</th>\n",
       "      <td>3166.538949</td>\n",
       "      <td>122510.666829</td>\n",
       "      <td>16.0</td>\n",
       "    </tr>\n",
       "    <tr>\n",
       "      <th>fiat</th>\n",
       "      <td>2803.999714</td>\n",
       "      <td>112525.404322</td>\n",
       "      <td>16.0</td>\n",
       "    </tr>\n",
       "    <tr>\n",
       "      <th>seat</th>\n",
       "      <td>3962.082060</td>\n",
       "      <td>120319.232276</td>\n",
       "      <td>15.0</td>\n",
       "    </tr>\n",
       "    <tr>\n",
       "      <th>smart</th>\n",
       "      <td>3526.835395</td>\n",
       "      <td>100167.918692</td>\n",
       "      <td>15.0</td>\n",
       "    </tr>\n",
       "    <tr>\n",
       "      <th>skoda</th>\n",
       "      <td>5991.773882</td>\n",
       "      <td>114369.521241</td>\n",
       "      <td>13.0</td>\n",
       "    </tr>\n",
       "    <tr>\n",
       "      <th>mazda</th>\n",
       "      <td>3737.399427</td>\n",
       "      <td>124601.527082</td>\n",
       "      <td>17.0</td>\n",
       "    </tr>\n",
       "    <tr>\n",
       "      <th>nissan</th>\n",
       "      <td>4404.141221</td>\n",
       "      <td>119522.900763</td>\n",
       "      <td>17.0</td>\n",
       "    </tr>\n",
       "    <tr>\n",
       "      <th>toyota</th>\n",
       "      <td>4824.766015</td>\n",
       "      <td>116387.079262</td>\n",
       "      <td>16.0</td>\n",
       "    </tr>\n",
       "    <tr>\n",
       "      <th>citroen</th>\n",
       "      <td>3311.026178</td>\n",
       "      <td>118304.246655</td>\n",
       "      <td>16.0</td>\n",
       "    </tr>\n",
       "  </tbody>\n",
       "</table>\n",
       "</div>"
      ],
      "text/plain": [
       "               Avg_Sell_Price  Avg_Kms_driven  Avg_age\n",
       "volkswagen        4689.720430   124323.405908     17.0\n",
       "bmw               6683.109243   132630.365780     17.0\n",
       "mercedes_benz     6093.495000   131612.184874     18.0\n",
       "opel              3032.538827   123607.448630     17.0\n",
       "audi              6717.803961   131491.736280     17.0\n",
       "ford              3188.706058   120383.766040     17.0\n",
       "renault           2427.224607   122758.107983     16.0\n",
       "peugeot           3166.538949   122510.666829     16.0\n",
       "fiat              2803.999714   112525.404322     16.0\n",
       "seat              3962.082060   120319.232276     15.0\n",
       "smart             3526.835395   100167.918692     15.0\n",
       "skoda             5991.773882   114369.521241     13.0\n",
       "mazda             3737.399427   124601.527082     17.0\n",
       "nissan            4404.141221   119522.900763     17.0\n",
       "toyota            4824.766015   116387.079262     16.0\n",
       "citroen           3311.026178   118304.246655     16.0"
      ]
     },
     "execution_count": 23,
     "metadata": {},
     "output_type": "execute_result"
    }
   ],
   "source": [
    "# converting dict to series\n",
    "top_brand_price_series = pd.Series(top_brand_price)\n",
    "top_brand_mileage_series = pd.Series(top_brand_mileage)\n",
    "top_brand_age_series = pd.Series(top_brand_age)\n",
    "\n",
    "# moving it to dataframe\n",
    "top_brand_df = pd.DataFrame(top_brand_price_series, columns = ['Avg_Sell_Price'])\n",
    "top_brand_df['Avg_Kms_driven'] = top_brand_mileage_series\n",
    "top_brand_df['Avg_age'] = np.ceil(top_brand_age_series)\n",
    "top_brand_df"
   ]
  },
  {
   "cell_type": "code",
   "execution_count": 24,
   "metadata": {},
   "outputs": [
    {
     "data": {
      "image/png": "[encoded data removed]",
      "text/plain": [
       "<Figure size 1440x432 with 3 Axes>"
      ]
     },
     "metadata": {
      "needs_background": "light"
     },
     "output_type": "display_data"
    }
   ],
   "source": [
    "fig, (ax1, ax2, ax3) = plt.subplots(1 , 3, figsize = (20, 6))\n",
    "top_brand_df.plot(y = 'Avg_Kms_driven', grid = True, marker = 'o', ax = ax1)\n",
    "top_brand_df.plot(y = 'Avg_Sell_Price', grid = True, marker = 'o', ax = ax2)\n",
    "top_brand_df.plot(y = 'Avg_age', grid = True, marker = 'o', ax = ax3)\n",
    "\n",
    "for ax in [ax1,ax2,ax3]:\n",
    "    ax.tick_params(axis = 'x', labelrotation = 90)"
   ]
  },
  {
   "cell_type": "markdown",
   "metadata": {},
   "source": [
    "###### Insights:\n",
    "    Considering the dataframe and plots, it's obvious that there is a non-linear relationship between the price and [age, mileage]. Irrespective of the mileage and age, the brands 'Audi', 'BMW' and 'Skoda' are expensive.\n",
    "\n",
    "###### 2.1 Categorical plots among the most popular brands "
   ]
  },
  {
   "cell_type": "code",
   "execution_count": 25,
   "metadata": {},
   "outputs": [
    {
     "data": {
      "image/png": "[encoded data removed]",
      "text/plain": [
       "<Figure size 720x432 with 1 Axes>"
      ]
     },
     "metadata": {
      "needs_background": "light"
     },
     "output_type": "display_data"
    }
   ],
   "source": [
    "grouping_top = car_data.groupby('Brand')['Vehicle_type'].value_counts()\n",
    "grouping_top.loc[top_brands].unstack().plot(kind = 'bar', stacked = True, figsize = (10,6))\n",
    "plt.title('Distribution of vehicle types among the most popular car brands', fontsize = 15)\n",
    "plt.show()"
   ]
  },
  {
   "cell_type": "markdown",
   "metadata": {},
   "source": [
    "###### Insights:\n",
    "    Among the most popular brands, it seems that there is a wide distribution of different vehicle types ranging from convertible, limousine, small car, SUV"
   ]
  },
  {
   "cell_type": "code",
   "execution_count": 26,
   "metadata": {},
   "outputs": [
    {
     "data": {
      "image/png": "[encoded data removed]",
      "text/plain": [
       "<Figure size 720x432 with 1 Axes>"
      ]
     },
     "metadata": {
      "needs_background": "light"
     },
     "output_type": "display_data"
    }
   ],
   "source": [
    "grouping_top = car_data.groupby('Brand')['Fuel_type'].value_counts()\n",
    "grouping_top.loc[top_brands].unstack().plot(kind = 'bar', stacked = True, figsize = (10,6))\n",
    "plt.show()"
   ]
  },
  {
   "cell_type": "markdown",
   "metadata": {},
   "source": [
    "###### Insights:\n",
    "\n",
    "    There is a predominance of vehicles with Petrol as fuel, among the most popular brands.\n",
    "\n",
    "###### 2.2 Most Popular Brand-Model Combo"
   ]
  },
  {
   "cell_type": "code",
   "execution_count": 27,
   "metadata": {},
   "outputs": [
    {
     "data": {
      "text/plain": [
       "[('volkswagen', 'golf'),\n",
       " ('bmw', '3er'),\n",
       " ('opel', 'astra'),\n",
       " ('volkswagen', 'polo'),\n",
       " ('audi', 'a4'),\n",
       " ('volkswagen', 'passat'),\n",
       " ('opel', 'corsa'),\n",
       " ('mercedes_benz', 'c_klasse'),\n",
       " ('bmw', '5er'),\n",
       " ('mercedes_benz', 'e_klasse'),\n",
       " ('audi', 'a3'),\n",
       " ('audi', 'a6'),\n",
       " ('ford', 'fiesta'),\n",
       " ('ford', 'focus'),\n",
       " ('smart', 'fortwo'),\n",
       " ('peugeot', '2_reihe')]"
      ]
     },
     "metadata": {},
     "output_type": "display_data"
    }
   ],
   "source": [
    "df_brand_model = car_data.groupby(['Brand','Model'])['Year_of_registration'].count().sort_values(ascending = False)\n",
    "\n",
    "top_brand_model_l = list(df_brand_model.index)\n",
    "percent_top_brand_model = ((df_brand_model.to_list()) / np.sum(df_brand_model.to_list())) * 100\n",
    "\n",
    "a = percent_top_brand_model >= 1.5\n",
    "top_brands_models = top_brand_model_l[:sum(a) + 1]\n",
    "display(top_brands_models)"
   ]
  },
  {
   "cell_type": "markdown",
   "metadata": {},
   "source": [
    "###### 2.3 Feature Target Relationship\n",
    "\n",
    "Dataset has both categorical and numerical columns. Inorder to determine the weird relationships between each column irrespective of whether they are linear, non-linear or gaussian, Predictive Power Score<sup>[2][3]</sup> is used. The score is 0 if there is no relationship and the score is 1 if there is a perfect relationship."
   ]
  },
  {
   "cell_type": "code",
   "execution_count": 28,
   "metadata": {},
   "outputs": [],
   "source": [
    "import ppscore as pps\n",
    "\n",
    "temp = car_data.copy()\n",
    "temp.drop('Year_of_registration', axis = 1, inplace = True)"
   ]
  },
  {
   "cell_type": "code",
   "execution_count": 29,
   "metadata": {},
   "outputs": [
    {
     "data": {
      "text/plain": [
       "<matplotlib.axes._subplots.AxesSubplot at 0x7f422c22df90>"
      ]
     },
     "execution_count": 29,
     "metadata": {},
     "output_type": "execute_result"
    },
    {
     "data": {
      "image/png": "[encoded data removed]",
      "text/plain": [
       "<Figure size 864x864 with 2 Axes>"
      ]
     },
     "metadata": {
      "needs_background": "light"
     },
     "output_type": "display_data"
    }
   ],
   "source": [
    "matrix_df = pps.matrix(temp)[['x', 'y', 'ppscore']].pivot(columns='x', index='y', values='ppscore')\n",
    "plt.figure(figsize = (12,12))\n",
    "plt.title('PPS', size = 15)\n",
    "sns.heatmap(matrix_df, vmax = 1.0, cmap = 'viridis', linewidths = 0.1, annot = True)"
   ]
  },
  {
   "cell_type": "markdown",
   "metadata": {},
   "source": [
    "###### Insights:\n",
    "    - Kms_driven only predicts the Price with a PPS score of 0.026 (Weak relationship)\n",
    "    - Given the Model, its easier to predict Brand because of PPS ~ 0.84\n",
    "    - There exists a strong relation between (Model, Vehicle type), (Model, Gearbox), (Model, Fuel type) and (Vehicle type, Fuel type)\n",
    "    - Age_of_car is a predictor of Price with a PPS of 0.31 but the viceversa isnt true.\n",
    "    - It's also interesting to note that the unrepaired_damages doesnt have any relation with the price! (Weak relation with almost all columns)"
   ]
  },
  {
   "cell_type": "markdown",
   "metadata": {},
   "source": [
    "### 3. Feature Engineering\n",
    "\n",
    "This section involves encoding the categorical data, performing feature scaling for developing a learning model.\n",
    "\n",
    "##### 3.1 Categorical Encoding\n",
    "Before proceeding further, let's drop the 'Unrepaired_damages' column as its least important for the analysis.  Let's look at the number of labels in each categorical columns"
   ]
  },
  {
   "cell_type": "code",
   "execution_count": 30,
   "metadata": {},
   "outputs": [
    {
     "name": "stdout",
     "output_type": "stream",
     "text": [
      "Vehicle_type : 7 labels\n",
      "Brand : 40 labels\n",
      "Model : 251 labels\n",
      "Fuel_type : 7 labels\n",
      "Gearbox : 2 labels\n"
     ]
    }
   ],
   "source": [
    "car_data.drop('Unrepaired_damages', axis = 1, inplace = True)\n",
    "\n",
    "my_col = ['Vehicle_type','Brand','Model','Fuel_type', 'Gearbox']\n",
    "for col in my_col:\n",
    "    print(col, ':', len(car_data[col].unique()), 'labels')"
   ]
  },
  {
   "cell_type": "markdown",
   "metadata": {},
   "source": [
    "Apart from 'Brand' and 'Model' columns, lets perform one-hot encoding on the categorical columns."
   ]
  },
  {
   "cell_type": "code",
   "execution_count": 31,
   "metadata": {},
   "outputs": [],
   "source": [
    "car_data['Gearbox'] = car_data['Gearbox'].str.replace('Manual','1').replace('Automatic', '0').astype(int)\n",
    "\n",
    "new_col1 = pd.get_dummies(car_data['Fuel_type'], prefix = 'fueltype', drop_first = True)\n",
    "new_col2 = pd.get_dummies(car_data['Vehicle_type'], prefix = 'vehicletype', drop_first = True)\n",
    "extra_col = pd.concat([new_col1, new_col2], axis = 1) # now has 12 columns"
   ]
  },
  {
   "cell_type": "markdown",
   "metadata": {},
   "source": [
    "If 'Brand', 'Model' are both one-hot encoded then number of columns in the dataset will be too large! This can likely cause the data to overfit the learning model. To avoid this, let's try to perform selective(top 5 brand and model) one-hot encoding<sup>[4]</sup>"
   ]
  },
  {
   "cell_type": "code",
   "execution_count": 32,
   "metadata": {},
   "outputs": [],
   "source": [
    "# let's make a list with the most frequent categories of the [Brand, Model]\n",
    "\n",
    "def one_hot_encoding_top_x(df, variable, top_x_labels):\n",
    "    \"\"\" function to create the dummy variables for the most frequent labels\"\"\"\n",
    "    \n",
    "    for label in top_x_labels:\n",
    "        df[variable+'_'+label] = np.where(df[variable] == label, 1, 0)\n",
    "        \n",
    "for col in ['Model', 'Brand']:\n",
    "    top_5_col = [y for y in car_data[col].value_counts().sort_values(ascending = False).head(5).index]\n",
    "    one_hot_encoding_top_x(car_data, col, top_5_col)"
   ]
  },
  {
   "cell_type": "code",
   "execution_count": 33,
   "metadata": {},
   "outputs": [
    {
     "data": {
      "text/html": [
       "<div>\n",
       "<style scoped>\n",
       "    .dataframe tbody tr th:only-of-type {\n",
       "        vertical-align: middle;\n",
       "    }\n",
       "\n",
       "    .dataframe tbody tr th {\n",
       "        vertical-align: top;\n",
       "    }\n",
       "\n",
       "    .dataframe thead th {\n",
       "        text-align: right;\n",
       "    }\n",
       "</style>\n",
       "<table border=\"1\" class=\"dataframe\">\n",
       "  <thead>\n",
       "    <tr style=\"text-align: right;\">\n",
       "      <th></th>\n",
       "      <th>Price</th>\n",
       "      <th>Gearbox</th>\n",
       "      <th>Kms_driven</th>\n",
       "      <th>Age_of_car</th>\n",
       "      <th>Model_golf</th>\n",
       "      <th>Model_andere</th>\n",
       "      <th>Model_3er</th>\n",
       "      <th>Model_astra</th>\n",
       "      <th>Model_polo</th>\n",
       "      <th>Brand_volkswagen</th>\n",
       "      <th>...</th>\n",
       "      <th>fueltype_hybrid</th>\n",
       "      <th>fueltype_lpg</th>\n",
       "      <th>fueltype_other</th>\n",
       "      <th>fueltype_petrol</th>\n",
       "      <th>vehicletype_convertible</th>\n",
       "      <th>vehicletype_coupe</th>\n",
       "      <th>vehicletype_limousine</th>\n",
       "      <th>vehicletype_other</th>\n",
       "      <th>vehicletype_small car</th>\n",
       "      <th>vehicletype_suv</th>\n",
       "    </tr>\n",
       "  </thead>\n",
       "  <tbody>\n",
       "    <tr>\n",
       "      <th>0</th>\n",
       "      <td>480.0</td>\n",
       "      <td>1</td>\n",
       "      <td>150000.0</td>\n",
       "      <td>27</td>\n",
       "      <td>1</td>\n",
       "      <td>0</td>\n",
       "      <td>0</td>\n",
       "      <td>0</td>\n",
       "      <td>0</td>\n",
       "      <td>1</td>\n",
       "      <td>...</td>\n",
       "      <td>0</td>\n",
       "      <td>0</td>\n",
       "      <td>0</td>\n",
       "      <td>1</td>\n",
       "      <td>0</td>\n",
       "      <td>0</td>\n",
       "      <td>1</td>\n",
       "      <td>0</td>\n",
       "      <td>0</td>\n",
       "      <td>0</td>\n",
       "    </tr>\n",
       "    <tr>\n",
       "      <th>1</th>\n",
       "      <td>15925.0</td>\n",
       "      <td>1</td>\n",
       "      <td>125000.0</td>\n",
       "      <td>9</td>\n",
       "      <td>1</td>\n",
       "      <td>0</td>\n",
       "      <td>0</td>\n",
       "      <td>0</td>\n",
       "      <td>0</td>\n",
       "      <td>0</td>\n",
       "      <td>...</td>\n",
       "      <td>0</td>\n",
       "      <td>0</td>\n",
       "      <td>0</td>\n",
       "      <td>0</td>\n",
       "      <td>0</td>\n",
       "      <td>1</td>\n",
       "      <td>0</td>\n",
       "      <td>0</td>\n",
       "      <td>0</td>\n",
       "      <td>0</td>\n",
       "    </tr>\n",
       "    <tr>\n",
       "      <th>2</th>\n",
       "      <td>9800.0</td>\n",
       "      <td>0</td>\n",
       "      <td>125000.0</td>\n",
       "      <td>16</td>\n",
       "      <td>0</td>\n",
       "      <td>0</td>\n",
       "      <td>0</td>\n",
       "      <td>0</td>\n",
       "      <td>0</td>\n",
       "      <td>0</td>\n",
       "      <td>...</td>\n",
       "      <td>0</td>\n",
       "      <td>0</td>\n",
       "      <td>0</td>\n",
       "      <td>0</td>\n",
       "      <td>0</td>\n",
       "      <td>0</td>\n",
       "      <td>0</td>\n",
       "      <td>0</td>\n",
       "      <td>0</td>\n",
       "      <td>1</td>\n",
       "    </tr>\n",
       "    <tr>\n",
       "      <th>3</th>\n",
       "      <td>1500.0</td>\n",
       "      <td>1</td>\n",
       "      <td>150000.0</td>\n",
       "      <td>19</td>\n",
       "      <td>1</td>\n",
       "      <td>0</td>\n",
       "      <td>0</td>\n",
       "      <td>0</td>\n",
       "      <td>0</td>\n",
       "      <td>1</td>\n",
       "      <td>...</td>\n",
       "      <td>0</td>\n",
       "      <td>0</td>\n",
       "      <td>0</td>\n",
       "      <td>1</td>\n",
       "      <td>0</td>\n",
       "      <td>0</td>\n",
       "      <td>0</td>\n",
       "      <td>0</td>\n",
       "      <td>1</td>\n",
       "      <td>0</td>\n",
       "    </tr>\n",
       "    <tr>\n",
       "      <th>4</th>\n",
       "      <td>3600.0</td>\n",
       "      <td>1</td>\n",
       "      <td>90000.0</td>\n",
       "      <td>12</td>\n",
       "      <td>0</td>\n",
       "      <td>0</td>\n",
       "      <td>0</td>\n",
       "      <td>0</td>\n",
       "      <td>0</td>\n",
       "      <td>0</td>\n",
       "      <td>...</td>\n",
       "      <td>0</td>\n",
       "      <td>0</td>\n",
       "      <td>0</td>\n",
       "      <td>0</td>\n",
       "      <td>0</td>\n",
       "      <td>0</td>\n",
       "      <td>0</td>\n",
       "      <td>0</td>\n",
       "      <td>1</td>\n",
       "      <td>0</td>\n",
       "    </tr>\n",
       "  </tbody>\n",
       "</table>\n",
       "<p>5 rows × 26 columns</p>\n",
       "</div>"
      ],
      "text/plain": [
       "     Price  Gearbox  Kms_driven  Age_of_car  Model_golf  Model_andere  \\\n",
       "0    480.0        1    150000.0          27           1             0   \n",
       "1  15925.0        1    125000.0           9           1             0   \n",
       "2   9800.0        0    125000.0          16           0             0   \n",
       "3   1500.0        1    150000.0          19           1             0   \n",
       "4   3600.0        1     90000.0          12           0             0   \n",
       "\n",
       "   Model_3er  Model_astra  Model_polo  Brand_volkswagen  ...  fueltype_hybrid  \\\n",
       "0          0            0           0                 1  ...                0   \n",
       "1          0            0           0                 0  ...                0   \n",
       "2          0            0           0                 0  ...                0   \n",
       "3          0            0           0                 1  ...                0   \n",
       "4          0            0           0                 0  ...                0   \n",
       "\n",
       "   fueltype_lpg  fueltype_other  fueltype_petrol  vehicletype_convertible  \\\n",
       "0             0               0                1                        0   \n",
       "1             0               0                0                        0   \n",
       "2             0               0                0                        0   \n",
       "3             0               0                1                        0   \n",
       "4             0               0                0                        0   \n",
       "\n",
       "   vehicletype_coupe  vehicletype_limousine  vehicletype_other  \\\n",
       "0                  0                      1                  0   \n",
       "1                  1                      0                  0   \n",
       "2                  0                      0                  0   \n",
       "3                  0                      0                  0   \n",
       "4                  0                      0                  0   \n",
       "\n",
       "   vehicletype_small car  vehicletype_suv  \n",
       "0                      0                0  \n",
       "1                      0                0  \n",
       "2                      0                1  \n",
       "3                      1                0  \n",
       "4                      1                0  \n",
       "\n",
       "[5 rows x 26 columns]"
      ]
     },
     "execution_count": 33,
     "metadata": {},
     "output_type": "execute_result"
    }
   ],
   "source": [
    "# concatenate both datasets\n",
    "final_dataset = pd.concat([car_data, extra_col], axis = 1)\n",
    "\n",
    "#Let's remove the unnecessary columns\n",
    "final_dataset.drop(['Vehicle_type','Brand','Model','Fuel_type','Year_of_registration'], axis= 1, inplace = True)\n",
    "\n",
    "# Display dataset\n",
    "final_dataset.head()"
   ]
  },
  {
   "cell_type": "markdown",
   "metadata": {},
   "source": [
    "Let's separate the features from target(Price)"
   ]
  },
  {
   "cell_type": "code",
   "execution_count": 34,
   "metadata": {},
   "outputs": [],
   "source": [
    "features  = final_dataset.drop('Price', axis = 1)\n",
    "target = final_dataset['Price'] "
   ]
  },
  {
   "cell_type": "markdown",
   "metadata": {},
   "source": [
    "##### 3.2 Feature Importance\n",
    "Let's find out the features which play an important role in predicting the car price"
   ]
  },
  {
   "cell_type": "code",
   "execution_count": 35,
   "metadata": {},
   "outputs": [
    {
     "data": {
      "text/plain": [
       "ExtraTreesRegressor(bootstrap=False, ccp_alpha=0.0, criterion='mse',\n",
       "                    max_depth=None, max_features='auto', max_leaf_nodes=None,\n",
       "                    max_samples=None, min_impurity_decrease=0.0,\n",
       "                    min_impurity_split=None, min_samples_leaf=1,\n",
       "                    min_samples_split=2, min_weight_fraction_leaf=0.0,\n",
       "                    n_estimators=100, n_jobs=None, oob_score=False,\n",
       "                    random_state=None, verbose=0, warm_start=False)"
      ]
     },
     "execution_count": 35,
     "metadata": {},
     "output_type": "execute_result"
    }
   ],
   "source": [
    "from sklearn.ensemble import ExtraTreesRegressor\n",
    "\n",
    "model = ExtraTreesRegressor() \n",
    "model.fit(features,target)"
   ]
  },
  {
   "cell_type": "code",
   "execution_count": 36,
   "metadata": {},
   "outputs": [
    {
     "data": {
      "text/plain": [
       "<matplotlib.axes._subplots.AxesSubplot at 0x7f4225b1b590>"
      ]
     },
     "execution_count": 36,
     "metadata": {},
     "output_type": "execute_result"
    },
    {
     "data": {
      "image/png": "[encoded data removed]",
      "text/plain": [
       "<Figure size 432x288 with 1 Axes>"
      ]
     },
     "metadata": {
      "needs_background": "light"
     },
     "output_type": "display_data"
    }
   ],
   "source": [
    "# let's plot the top 10 features that play a role in predicting Car Price \n",
    "feat_importances = pd.Series(model.feature_importances_, index = features.columns)\n",
    "\n",
    "feat_importances.nlargest(10).plot(kind = 'barh')"
   ]
  },
  {
   "cell_type": "markdown",
   "metadata": {},
   "source": [
    "##### 3.3 Feature Scaling using Standard Scaler"
   ]
  },
  {
   "cell_type": "code",
   "execution_count": 37,
   "metadata": {},
   "outputs": [],
   "source": [
    "from sklearn.preprocessing import StandardScaler\n",
    "\n",
    "scale = StandardScaler()\n",
    "features_scaled = scale.fit_transform(features)"
   ]
  },
  {
   "cell_type": "markdown",
   "metadata": {},
   "source": [
    "### 4. Model Selection\n",
    "\n",
    "This section involves choosing the best regression model for predicting the car price based on metric - r2 score.  \n",
    "But before that, let's analyze the target distribution"
   ]
  },
  {
   "cell_type": "code",
   "execution_count": 38,
   "metadata": {},
   "outputs": [
    {
     "name": "stdout",
     "output_type": "stream",
     "text": [
      "\n",
      " mu = 4801.12 and sigma = 4610.85\n",
      "\n"
     ]
    },
    {
     "data": {
      "image/png": "[encoded data removed]",
      "text/plain": [
       "<Figure size 432x288 with 1 Axes>"
      ]
     },
     "metadata": {
      "needs_background": "light"
     },
     "output_type": "display_data"
    },
    {
     "data": {
      "image/png": "[encoded data removed]",
      "text/plain": [
       "<Figure size 432x288 with 1 Axes>"
      ]
     },
     "metadata": {
      "needs_background": "light"
     },
     "output_type": "display_data"
    }
   ],
   "source": [
    "from scipy import stats\n",
    "from scipy.stats import norm\n",
    "\n",
    "sns.distplot(target, fit = norm);\n",
    "\n",
    "# Get the fitted parameters used by the function\n",
    "(mu, sigma) = norm.fit(target)\n",
    "print( '\\n mu = {:.2f} and sigma = {:.2f}\\n'.format(mu, sigma))\n",
    "\n",
    "#Now plot the distribution\n",
    "plt.legend(['Normal dist. ($\\mu=$ {:.2f} and $\\sigma=$ {:.2f} )'.format(mu, sigma)], loc = 'best')\n",
    "plt.ylabel('Frequency')\n",
    "plt.title('Price distribution')\n",
    "\n",
    "#Get also the QQ-plot\n",
    "fig = plt.figure()\n",
    "res = stats.probplot(target, plot = plt)"
   ]
  },
  {
   "cell_type": "markdown",
   "metadata": {},
   "source": [
    "###### Insights:\n",
    "\n",
    "    Target is right skewed. \n",
    "\n",
    "Let's split the dataset into training and testing sets"
   ]
  },
  {
   "cell_type": "code",
   "execution_count": 39,
   "metadata": {},
   "outputs": [],
   "source": [
    "from sklearn.model_selection import train_test_split\n",
    "X_train, X_test, y_train, y_test = train_test_split(features_scaled, np.array(target), test_size = 0.3)"
   ]
  },
  {
   "cell_type": "markdown",
   "metadata": {},
   "source": [
    "##### 4.1 Choosing regression model\n",
    "\n",
    "Since predicting car price is a case of supervised learning, it is necessary to figure out which regression model will be best for prediction. In this step, different regression models namely Linear, Ridge, Stochastic Gradient Descent (SGD), Random forest Regressor are trained on the training set, evaluated on test sets. Criteria for choosing the best model is based on the metric<sup>[5]</sup> i.e., r2 score. The model with highest r2 score will be chosen as the best model for prediction."
   ]
  },
  {
   "cell_type": "code",
   "execution_count": 40,
   "metadata": {},
   "outputs": [],
   "source": [
    "from sklearn.linear_model import LinearRegression, Ridge, SGDRegressor\n",
    "from sklearn.ensemble import RandomForestRegressor\n",
    "\n",
    "from sklearn import metrics"
   ]
  },
  {
   "cell_type": "code",
   "execution_count": 41,
   "metadata": {},
   "outputs": [],
   "source": [
    "def r2score (y_true, y_pred):\n",
    "    \"\"\" Function to return the r2 score \"\"\"\n",
    "    return metrics.r2_score(y_true, y_pred)\n",
    "\n",
    "def rmse(y_true, y_pred):\n",
    "    \"\"\" Function to return the root mean square value \"\"\"\n",
    "    return np.sqrt(np.mean((y_true - y_pred) ** 2))\n",
    "\n",
    "def model_test(model):\n",
    "    \"\"\"\n",
    "    Generic function that:\n",
    "        1. Fits the given model on training sets (X_train, y_train)\n",
    "        2. Predicts the hypothesis on test input (X_test)\n",
    "        3. Calculates the r2 score/rmse (y_test, hypothesis)\n",
    "    \"\"\"\n",
    "    model.fit(X_train, y_train)\n",
    "    predictions = model.predict(X_test)\n",
    "    model_r2 = round(r2score(y_test, predictions), 4)\n",
    "    model_rmse = round(rmse(y_test, predictions), 3)\n",
    "    return model_r2, model_rmse"
   ]
  },
  {
   "cell_type": "code",
   "execution_count": 42,
   "metadata": {},
   "outputs": [
    {
     "name": "stdout",
     "output_type": "stream",
     "text": [
      "R2 score for Linear Regression is 0.4924 and Root Mean Square Error is 3294.17\n"
     ]
    }
   ],
   "source": [
    "### Case 1: Linear Regression\n",
    "\n",
    "lr = LinearRegression()\n",
    "lr_r2, lr_rsme = model_test(lr)\n",
    "print(\"R2 score for Linear Regression is {} and Root Mean Square Error is {}\".format(lr_r2, lr_rsme))"
   ]
  },
  {
   "cell_type": "code",
   "execution_count": 43,
   "metadata": {},
   "outputs": [
    {
     "name": "stdout",
     "output_type": "stream",
     "text": [
      "R2 score for Ridge Regression is 0.4924 and Root Mean Square Error is 3294.17\n"
     ]
    }
   ],
   "source": [
    "### Case 2: Ridge Regression\n",
    "\n",
    "lr_ridge = Ridge(fit_intercept = True, alpha = 0.3)\n",
    "ridge_r2, ridge_rmse = model_test(lr_ridge)\n",
    "print(\"R2 score for Ridge Regression is {} and Root Mean Square Error is {}\".format(ridge_r2, ridge_rmse))"
   ]
  },
  {
   "cell_type": "code",
   "execution_count": 44,
   "metadata": {},
   "outputs": [
    {
     "name": "stdout",
     "output_type": "stream",
     "text": [
      "R2 score for Stochastic Gradient Descent is 0.482 and Root Mean Square Error is 3327.888\n"
     ]
    }
   ],
   "source": [
    "### Case 3: Stochastic Gradient Descent\n",
    "\n",
    "sgdreg = SGDRegressor(penalty = 'l2', alpha = 0.15, max_iter = 200)\n",
    "sgd_r2, sgd_rmse = model_test(sgdreg)\n",
    "print(\"R2 score for Stochastic Gradient Descent is {} and Root Mean Square Error is {}\".format(sgd_r2,sgd_rmse))"
   ]
  },
  {
   "cell_type": "code",
   "execution_count": 45,
   "metadata": {},
   "outputs": [
    {
     "name": "stdout",
     "output_type": "stream",
     "text": [
      "R2 score for Random Forest Regressor is 0.706 and Root Mean Square Error is 2507.091\n"
     ]
    }
   ],
   "source": [
    "### Case 4: Random Forest Regressor\n",
    "\n",
    "rf = RandomForestRegressor()\n",
    "rf_r2, rf_rmse = model_test(rf)\n",
    "print(\"R2 score for Random Forest Regressor is {} and Root Mean Square Error is {}\".format(rf_r2,rf_rmse))"
   ]
  },
  {
   "cell_type": "code",
   "execution_count": 46,
   "metadata": {},
   "outputs": [],
   "source": [
    "model_comparison = pd.DataFrame({\"Models\" : [\"Linear regression\", \"Ridge Regression\", \"Stochastic Gradient Descent\", \"Random Forest\"],\"RMSE\" : [lr_rsme, ridge_rmse, sgd_rmse, rf_rmse], \"r2_score\" : [lr_r2, ridge_r2, sgd_r2, rf_r2]})"
   ]
  },
  {
   "cell_type": "code",
   "execution_count": 47,
   "metadata": {},
   "outputs": [
    {
     "data": {
      "text/plain": [
       "Text(0.5, 0, 'r2 score')"
      ]
     },
     "execution_count": 47,
     "metadata": {},
     "output_type": "execute_result"
    },
    {
     "data": {
      "image/png": "[encoded data removed]",
      "text/plain": [
       "<Figure size 576x360 with 1 Axes>"
      ]
     },
     "metadata": {
      "needs_background": "light"
     },
     "output_type": "display_data"
    }
   ],
   "source": [
    "model_comparison.sort_values(\"r2_score\", ascending = False).plot(x = \"Models\", y = \"r2_score\", kind = \"barh\", figsize = (8,5), color = 'blue')\n",
    "plt.title('choosing the right regression model', fontsize = 15)\n",
    "plt.xlabel('r2 score')"
   ]
  },
  {
   "cell_type": "markdown",
   "metadata": {},
   "source": [
    "From the above plot, it is clear that the best model for prediction is Random Forest Regressor. "
   ]
  },
  {
   "cell_type": "markdown",
   "metadata": {},
   "source": [
    "### 5. Hyperparameter tuning and Optimization, Prediction and Evaluation\n",
    "\n",
    "Since the chosen model is 'Random Forest', it's necessary to perform hyperparameter tuning and optimization on cross validation sets."
   ]
  },
  {
   "cell_type": "code",
   "execution_count": 48,
   "metadata": {},
   "outputs": [],
   "source": [
    "# Also, there is no need to scale the features for training a Random forest model.\n",
    "\n",
    "X_train, X_test, y_train, y_test = train_test_split(features, target, test_size = 0.3)"
   ]
  },
  {
   "cell_type": "code",
   "execution_count": 49,
   "metadata": {},
   "outputs": [],
   "source": [
    "from sklearn.model_selection import RandomizedSearchCV"
   ]
  },
  {
   "cell_type": "code",
   "execution_count": 50,
   "metadata": {},
   "outputs": [],
   "source": [
    "# Number of trees in random forest\n",
    "n_estimators = [int(x) for x in np.linspace(start = 100, stop = 600, num = 6)]\n",
    "# Number of features to consider at every split\n",
    "max_features = ['auto', 'sqrt']\n",
    "# Maximum number of levels in tree\n",
    "max_depth = [int(x) for x in np.linspace(5, 30, num = 6)]\n",
    "# Minimum number of samples required to split a node\n",
    "min_samples_split = [2, 5, 10, 15, 100]\n",
    "# Minimum number of samples required at each leaf node\n",
    "min_samples_leaf = [1, 2, 5, 10]\n",
    "# Create the random grid\n",
    "random_grid = {'n_estimators': n_estimators,\n",
    "               'max_features': max_features,\n",
    "               'max_depth': max_depth,\n",
    "               'min_samples_split': min_samples_split,\n",
    "               'min_samples_leaf': min_samples_leaf}"
   ]
  },
  {
   "cell_type": "code",
   "execution_count": 51,
   "metadata": {},
   "outputs": [],
   "source": [
    "# Use the random grid to search for best hyperparameters\n",
    "# First create the base model to tune\n",
    "rf = RandomForestRegressor()\n",
    "\n",
    "# Random search of parameters, using 3 fold cross validation, \n",
    "# search across 100 different combinations\n",
    "rf_random = RandomizedSearchCV(estimator = rf, param_distributions = random_grid, n_iter = 10, cv = 5, verbose = 2, n_jobs = 1)"
   ]
  },
  {
   "cell_type": "code",
   "execution_count": 60,
   "metadata": {},
   "outputs": [
    {
     "name": "stdout",
     "output_type": "stream",
     "text": [
      "Fitting 5 folds for each of 10 candidates, totalling 50 fits\n",
      "[CV] n_estimators=400, min_samples_split=2, min_samples_leaf=1, max_features=sqrt, max_depth=25 \n"
     ]
    },
    {
     "name": "stderr",
     "output_type": "stream",
     "text": [
      "[Parallel(n_jobs=1)]: Using backend SequentialBackend with 1 concurrent workers.\n"
     ]
    },
    {
     "name": "stdout",
     "output_type": "stream",
     "text": [
      "[CV]  n_estimators=400, min_samples_split=2, min_samples_leaf=1, max_features=sqrt, max_depth=25, total=  56.7s\n",
      "[CV] n_estimators=400, min_samples_split=2, min_samples_leaf=1, max_features=sqrt, max_depth=25 \n"
     ]
    },
    {
     "name": "stderr",
     "output_type": "stream",
     "text": [
      "[Parallel(n_jobs=1)]: Done   1 out of   1 | elapsed:   57.0s remaining:    0.0s\n"
     ]
    },
    {
     "name": "stdout",
     "output_type": "stream",
     "text": [
      "[CV]  n_estimators=400, min_samples_split=2, min_samples_leaf=1, max_features=sqrt, max_depth=25, total=  52.1s\n",
      "[CV] n_estimators=400, min_samples_split=2, min_samples_leaf=1, max_features=sqrt, max_depth=25 \n",
      "[CV]  n_estimators=400, min_samples_split=2, min_samples_leaf=1, max_features=sqrt, max_depth=25, total=  50.8s\n",
      "[CV] n_estimators=400, min_samples_split=2, min_samples_leaf=1, max_features=sqrt, max_depth=25 \n",
      "[CV]  n_estimators=400, min_samples_split=2, min_samples_leaf=1, max_features=sqrt, max_depth=25, total=  51.7s\n",
      "[CV] n_estimators=400, min_samples_split=2, min_samples_leaf=1, max_features=sqrt, max_depth=25 \n",
      "[CV]  n_estimators=400, min_samples_split=2, min_samples_leaf=1, max_features=sqrt, max_depth=25, total=  50.3s\n",
      "[CV] n_estimators=500, min_samples_split=15, min_samples_leaf=1, max_features=auto, max_depth=10 \n",
      "[CV]  n_estimators=500, min_samples_split=15, min_samples_leaf=1, max_features=auto, max_depth=10, total= 2.0min\n",
      "[CV] n_estimators=500, min_samples_split=15, min_samples_leaf=1, max_features=auto, max_depth=10 \n",
      "[CV]  n_estimators=500, min_samples_split=15, min_samples_leaf=1, max_features=auto, max_depth=10, total= 2.0min\n",
      "[CV] n_estimators=500, min_samples_split=15, min_samples_leaf=1, max_features=auto, max_depth=10 \n",
      "[CV]  n_estimators=500, min_samples_split=15, min_samples_leaf=1, max_features=auto, max_depth=10, total= 2.0min\n",
      "[CV] n_estimators=500, min_samples_split=15, min_samples_leaf=1, max_features=auto, max_depth=10 \n",
      "[CV]  n_estimators=500, min_samples_split=15, min_samples_leaf=1, max_features=auto, max_depth=10, total= 2.0min\n",
      "[CV] n_estimators=500, min_samples_split=15, min_samples_leaf=1, max_features=auto, max_depth=10 \n",
      "[CV]  n_estimators=500, min_samples_split=15, min_samples_leaf=1, max_features=auto, max_depth=10, total= 1.9min\n",
      "[CV] n_estimators=200, min_samples_split=100, min_samples_leaf=2, max_features=sqrt, max_depth=20 \n",
      "[CV]  n_estimators=200, min_samples_split=100, min_samples_leaf=2, max_features=sqrt, max_depth=20, total=  18.3s\n",
      "[CV] n_estimators=200, min_samples_split=100, min_samples_leaf=2, max_features=sqrt, max_depth=20 \n",
      "[CV]  n_estimators=200, min_samples_split=100, min_samples_leaf=2, max_features=sqrt, max_depth=20, total=  18.0s\n",
      "[CV] n_estimators=200, min_samples_split=100, min_samples_leaf=2, max_features=sqrt, max_depth=20 \n",
      "[CV]  n_estimators=200, min_samples_split=100, min_samples_leaf=2, max_features=sqrt, max_depth=20, total=  17.9s\n",
      "[CV] n_estimators=200, min_samples_split=100, min_samples_leaf=2, max_features=sqrt, max_depth=20 \n",
      "[CV]  n_estimators=200, min_samples_split=100, min_samples_leaf=2, max_features=sqrt, max_depth=20, total=  18.5s\n",
      "[CV] n_estimators=200, min_samples_split=100, min_samples_leaf=2, max_features=sqrt, max_depth=20 \n",
      "[CV]  n_estimators=200, min_samples_split=100, min_samples_leaf=2, max_features=sqrt, max_depth=20, total=  17.9s\n",
      "[CV] n_estimators=600, min_samples_split=5, min_samples_leaf=1, max_features=sqrt, max_depth=5 \n",
      "[CV]  n_estimators=600, min_samples_split=5, min_samples_leaf=1, max_features=sqrt, max_depth=5, total=  22.3s\n",
      "[CV] n_estimators=600, min_samples_split=5, min_samples_leaf=1, max_features=sqrt, max_depth=5 \n",
      "[CV]  n_estimators=600, min_samples_split=5, min_samples_leaf=1, max_features=sqrt, max_depth=5, total=  21.8s\n",
      "[CV] n_estimators=600, min_samples_split=5, min_samples_leaf=1, max_features=sqrt, max_depth=5 \n",
      "[CV]  n_estimators=600, min_samples_split=5, min_samples_leaf=1, max_features=sqrt, max_depth=5, total=  21.6s\n",
      "[CV] n_estimators=600, min_samples_split=5, min_samples_leaf=1, max_features=sqrt, max_depth=5 \n",
      "[CV]  n_estimators=600, min_samples_split=5, min_samples_leaf=1, max_features=sqrt, max_depth=5, total=  21.9s\n",
      "[CV] n_estimators=600, min_samples_split=5, min_samples_leaf=1, max_features=sqrt, max_depth=5 \n",
      "[CV]  n_estimators=600, min_samples_split=5, min_samples_leaf=1, max_features=sqrt, max_depth=5, total=  21.9s\n",
      "[CV] n_estimators=100, min_samples_split=5, min_samples_leaf=10, max_features=auto, max_depth=25 \n",
      "[CV]  n_estimators=100, min_samples_split=5, min_samples_leaf=10, max_features=auto, max_depth=25, total=  29.7s\n",
      "[CV] n_estimators=100, min_samples_split=5, min_samples_leaf=10, max_features=auto, max_depth=25 \n",
      "[CV]  n_estimators=100, min_samples_split=5, min_samples_leaf=10, max_features=auto, max_depth=25, total=  30.0s\n",
      "[CV] n_estimators=100, min_samples_split=5, min_samples_leaf=10, max_features=auto, max_depth=25 \n",
      "[CV]  n_estimators=100, min_samples_split=5, min_samples_leaf=10, max_features=auto, max_depth=25, total=  29.8s\n",
      "[CV] n_estimators=100, min_samples_split=5, min_samples_leaf=10, max_features=auto, max_depth=25 \n",
      "[CV]  n_estimators=100, min_samples_split=5, min_samples_leaf=10, max_features=auto, max_depth=25, total=  29.8s\n",
      "[CV] n_estimators=100, min_samples_split=5, min_samples_leaf=10, max_features=auto, max_depth=25 \n",
      "[CV]  n_estimators=100, min_samples_split=5, min_samples_leaf=10, max_features=auto, max_depth=25, total=  29.6s\n",
      "[CV] n_estimators=200, min_samples_split=100, min_samples_leaf=2, max_features=auto, max_depth=10 \n",
      "[CV]  n_estimators=200, min_samples_split=100, min_samples_leaf=2, max_features=auto, max_depth=10, total=  46.0s\n",
      "[CV] n_estimators=200, min_samples_split=100, min_samples_leaf=2, max_features=auto, max_depth=10 \n",
      "[CV]  n_estimators=200, min_samples_split=100, min_samples_leaf=2, max_features=auto, max_depth=10, total=  46.0s\n",
      "[CV] n_estimators=200, min_samples_split=100, min_samples_leaf=2, max_features=auto, max_depth=10 \n",
      "[CV]  n_estimators=200, min_samples_split=100, min_samples_leaf=2, max_features=auto, max_depth=10, total=  45.9s\n",
      "[CV] n_estimators=200, min_samples_split=100, min_samples_leaf=2, max_features=auto, max_depth=10 \n",
      "[CV]  n_estimators=200, min_samples_split=100, min_samples_leaf=2, max_features=auto, max_depth=10, total=  46.0s\n",
      "[CV] n_estimators=200, min_samples_split=100, min_samples_leaf=2, max_features=auto, max_depth=10 \n",
      "[CV]  n_estimators=200, min_samples_split=100, min_samples_leaf=2, max_features=auto, max_depth=10, total=  45.9s\n",
      "[CV] n_estimators=200, min_samples_split=2, min_samples_leaf=10, max_features=sqrt, max_depth=25 \n",
      "[CV]  n_estimators=200, min_samples_split=2, min_samples_leaf=10, max_features=sqrt, max_depth=25, total=  17.8s\n",
      "[CV] n_estimators=200, min_samples_split=2, min_samples_leaf=10, max_features=sqrt, max_depth=25 \n",
      "[CV]  n_estimators=200, min_samples_split=2, min_samples_leaf=10, max_features=sqrt, max_depth=25, total=  17.8s\n",
      "[CV] n_estimators=200, min_samples_split=2, min_samples_leaf=10, max_features=sqrt, max_depth=25 \n",
      "[CV]  n_estimators=200, min_samples_split=2, min_samples_leaf=10, max_features=sqrt, max_depth=25, total=  17.9s\n",
      "[CV] n_estimators=200, min_samples_split=2, min_samples_leaf=10, max_features=sqrt, max_depth=25 \n",
      "[CV]  n_estimators=200, min_samples_split=2, min_samples_leaf=10, max_features=sqrt, max_depth=25, total=  17.8s\n",
      "[CV] n_estimators=200, min_samples_split=2, min_samples_leaf=10, max_features=sqrt, max_depth=25 \n",
      "[CV]  n_estimators=200, min_samples_split=2, min_samples_leaf=10, max_features=sqrt, max_depth=25, total=  17.7s\n",
      "[CV] n_estimators=600, min_samples_split=15, min_samples_leaf=1, max_features=sqrt, max_depth=10 \n",
      "[CV]  n_estimators=600, min_samples_split=15, min_samples_leaf=1, max_features=sqrt, max_depth=10, total=  39.6s\n",
      "[CV] n_estimators=600, min_samples_split=15, min_samples_leaf=1, max_features=sqrt, max_depth=10 \n",
      "[CV]  n_estimators=600, min_samples_split=15, min_samples_leaf=1, max_features=sqrt, max_depth=10, total=  39.5s\n",
      "[CV] n_estimators=600, min_samples_split=15, min_samples_leaf=1, max_features=sqrt, max_depth=10 \n",
      "[CV]  n_estimators=600, min_samples_split=15, min_samples_leaf=1, max_features=sqrt, max_depth=10, total=  39.4s\n",
      "[CV] n_estimators=600, min_samples_split=15, min_samples_leaf=1, max_features=sqrt, max_depth=10 \n",
      "[CV]  n_estimators=600, min_samples_split=15, min_samples_leaf=1, max_features=sqrt, max_depth=10, total=  39.5s\n",
      "[CV] n_estimators=600, min_samples_split=15, min_samples_leaf=1, max_features=sqrt, max_depth=10 \n",
      "[CV]  n_estimators=600, min_samples_split=15, min_samples_leaf=1, max_features=sqrt, max_depth=10, total=  40.0s\n",
      "[CV] n_estimators=100, min_samples_split=10, min_samples_leaf=5, max_features=sqrt, max_depth=30 \n"
     ]
    },
    {
     "name": "stdout",
     "output_type": "stream",
     "text": [
      "[CV]  n_estimators=100, min_samples_split=10, min_samples_leaf=5, max_features=sqrt, max_depth=30, total=   9.6s\n",
      "[CV] n_estimators=100, min_samples_split=10, min_samples_leaf=5, max_features=sqrt, max_depth=30 \n",
      "[CV]  n_estimators=100, min_samples_split=10, min_samples_leaf=5, max_features=sqrt, max_depth=30, total=   9.6s\n",
      "[CV] n_estimators=100, min_samples_split=10, min_samples_leaf=5, max_features=sqrt, max_depth=30 \n",
      "[CV]  n_estimators=100, min_samples_split=10, min_samples_leaf=5, max_features=sqrt, max_depth=30, total=   9.7s\n",
      "[CV] n_estimators=100, min_samples_split=10, min_samples_leaf=5, max_features=sqrt, max_depth=30 \n",
      "[CV]  n_estimators=100, min_samples_split=10, min_samples_leaf=5, max_features=sqrt, max_depth=30, total=   9.5s\n",
      "[CV] n_estimators=100, min_samples_split=10, min_samples_leaf=5, max_features=sqrt, max_depth=30 \n",
      "[CV]  n_estimators=100, min_samples_split=10, min_samples_leaf=5, max_features=sqrt, max_depth=30, total=   9.6s\n",
      "[CV] n_estimators=400, min_samples_split=10, min_samples_leaf=5, max_features=auto, max_depth=25 \n",
      "[CV]  n_estimators=400, min_samples_split=10, min_samples_leaf=5, max_features=auto, max_depth=25, total= 2.1min\n",
      "[CV] n_estimators=400, min_samples_split=10, min_samples_leaf=5, max_features=auto, max_depth=25 \n",
      "[CV]  n_estimators=400, min_samples_split=10, min_samples_leaf=5, max_features=auto, max_depth=25, total= 2.2min\n",
      "[CV] n_estimators=400, min_samples_split=10, min_samples_leaf=5, max_features=auto, max_depth=25 \n",
      "[CV]  n_estimators=400, min_samples_split=10, min_samples_leaf=5, max_features=auto, max_depth=25, total= 2.1min\n",
      "[CV] n_estimators=400, min_samples_split=10, min_samples_leaf=5, max_features=auto, max_depth=25 \n",
      "[CV]  n_estimators=400, min_samples_split=10, min_samples_leaf=5, max_features=auto, max_depth=25, total= 2.1min\n",
      "[CV] n_estimators=400, min_samples_split=10, min_samples_leaf=5, max_features=auto, max_depth=25 \n",
      "[CV]  n_estimators=400, min_samples_split=10, min_samples_leaf=5, max_features=auto, max_depth=25, total= 2.1min\n"
     ]
    },
    {
     "name": "stderr",
     "output_type": "stream",
     "text": [
      "[Parallel(n_jobs=1)]: Done  50 out of  50 | elapsed: 39.9min finished\n"
     ]
    },
    {
     "data": {
      "text/plain": [
       "RandomizedSearchCV(cv=5, error_score=nan,\n",
       "                   estimator=RandomForestRegressor(bootstrap=True,\n",
       "                                                   ccp_alpha=0.0,\n",
       "                                                   criterion='mse',\n",
       "                                                   max_depth=None,\n",
       "                                                   max_features='auto',\n",
       "                                                   max_leaf_nodes=None,\n",
       "                                                   max_samples=None,\n",
       "                                                   min_impurity_decrease=0.0,\n",
       "                                                   min_impurity_split=None,\n",
       "                                                   min_samples_leaf=1,\n",
       "                                                   min_samples_split=2,\n",
       "                                                   min_weight_fraction_leaf=0.0,\n",
       "                                                   n_estimators=100,\n",
       "                                                   n_jobs=None, oob_score=False,\n",
       "                                                   random_state=None, verbose=0,\n",
       "                                                   warm_start=False),\n",
       "                   iid='deprecated', n_iter=10, n_jobs=1,\n",
       "                   param_distributions={'max_depth': [5, 10, 15, 20, 25, 30],\n",
       "                                        'max_features': ['auto', 'sqrt'],\n",
       "                                        'min_samples_leaf': [1, 2, 5, 10],\n",
       "                                        'min_samples_split': [2, 5, 10, 15,\n",
       "                                                              100],\n",
       "                                        'n_estimators': [100, 200, 300, 400,\n",
       "                                                         500, 600]},\n",
       "                   pre_dispatch='2*n_jobs', random_state=None, refit=True,\n",
       "                   return_train_score=False, scoring=None, verbose=2)"
      ]
     },
     "execution_count": 60,
     "metadata": {},
     "output_type": "execute_result"
    }
   ],
   "source": [
    "rf_random.fit(X_train,y_train)"
   ]
  },
  {
   "cell_type": "code",
   "execution_count": 66,
   "metadata": {},
   "outputs": [
    {
     "name": "stdout",
     "output_type": "stream",
     "text": [
      "Training r2 score:0.7446951406287834\n",
      "Test r2 score:0.7230956649461823\n",
      "Cross Validation (CV) r2 score:0.7221740966872092\n",
      "\n",
      "Best parameters for model:\n",
      "{'n_estimators': 100, 'min_samples_split': 10, 'min_samples_leaf': 5, 'max_features': 'sqrt', 'max_depth': 30}\n"
     ]
    }
   ],
   "source": [
    "print('Training r2 score:{}'.format(rf_random.score(X_train,y_train)))\n",
    "print('Test r2 score:{}'.format(rf_random.score(X_test,y_test)))\n",
    "print('Cross Validation (CV) r2 score:{}'.format(rf_random.best_score_))\n",
    "print('\\nBest parameters for model:')\n",
    "print(rf_random.best_params_)"
   ]
  },
  {
   "cell_type": "markdown",
   "metadata": {},
   "source": [
    "r2 score for hyperparameter tuned model is approximately same as default model. Let's check out the time it takes to train both default and tuned model."
   ]
  },
  {
   "cell_type": "code",
   "execution_count": 52,
   "metadata": {},
   "outputs": [],
   "source": [
    "default_model = RandomForestRegressor()\n",
    "hyp_tuned_model = RandomForestRegressor(n_estimators = 100, min_samples_split = 10,min_samples_leaf = 5, max_features = 'sqrt',max_depth = 30)"
   ]
  },
  {
   "cell_type": "code",
   "execution_count": 53,
   "metadata": {},
   "outputs": [
    {
     "name": "stdout",
     "output_type": "stream",
     "text": [
      "52.3 s ± 2.22 s per loop (mean ± std. dev. of 5 runs, 1 loop each)\n"
     ]
    }
   ],
   "source": [
    "%%timeit -n 1 -r 5\n",
    "default_model.fit(X_train, y_train)"
   ]
  },
  {
   "cell_type": "code",
   "execution_count": 54,
   "metadata": {},
   "outputs": [
    {
     "name": "stdout",
     "output_type": "stream",
     "text": [
      "14.1 s ± 617 ms per loop (mean ± std. dev. of 5 runs, 1 loop each)\n"
     ]
    }
   ],
   "source": [
    "%%timeit -n 1 -r 5\n",
    "hyp_tuned_model.fit(X_train,y_train)"
   ]
  },
  {
   "cell_type": "code",
   "execution_count": 55,
   "metadata": {},
   "outputs": [
    {
     "name": "stdout",
     "output_type": "stream",
     "text": [
      "Default model performance on the test set: r2 score = 0.7057\n",
      "Tuned model performance on the test set: r2 score = 0.7272\n"
     ]
    }
   ],
   "source": [
    "# Predictions\n",
    "default_pred = default_model.predict(X_test)\n",
    "hyp_tuned_pred = hyp_tuned_model.predict(X_test)\n",
    "\n",
    "# Evaluation\n",
    "print(\"Default model performance on the test set: r2 score = %0.4f\"  %r2score(y_test,default_pred))\n",
    "print(\"Tuned model performance on the test set: r2 score = %0.4f\" %r2score(y_test,hyp_tuned_pred))"
   ]
  },
  {
   "cell_type": "markdown",
   "metadata": {},
   "source": [
    "Hyperparameter tuned model is much faster to run than the default model. Also there is also a small improvement in r2 score with tuned model. Let's check the error difference between the predicted and actual values."
   ]
  },
  {
   "cell_type": "code",
   "execution_count": 56,
   "metadata": {},
   "outputs": [
    {
     "data": {
      "text/plain": [
       "Text(0.5, 1.0, 'Residual Information')"
      ]
     },
     "execution_count": 56,
     "metadata": {},
     "output_type": "execute_result"
    },
    {
     "data": {
      "image/png": "[encoded data removed]",
      "text/plain": [
       "<Figure size 1152x360 with 2 Axes>"
      ]
     },
     "metadata": {
      "needs_background": "light"
     },
     "output_type": "display_data"
    }
   ],
   "source": [
    "# difference between the predicted and actual values\n",
    "fig, (ax1, ax2) = plt.subplots(1, 2, figsize = (16,5))\n",
    "sns.kdeplot(hyp_tuned_pred, label = \"Predicted values\", ax = ax1)\n",
    "sns.kdeplot(y_test, label = \"Actual values\", ax = ax1)\n",
    "\n",
    "sns.distplot(y_test - hyp_tuned_pred, ax = ax2)\n",
    "\n",
    "ax1.set_title('Error difference')\n",
    "ax1.set_xlabel('Price')\n",
    "ax2.set_title('Residual Information')"
   ]
  },
  {
   "cell_type": "markdown",
   "metadata": {},
   "source": [
    "### 6. Conclusion\n",
    "\n",
    "    Among the different regressor models, hyperparameter-tuned random forest model performed better in predicting the used car's price with an r2 score of 0.72 and lowest RMSE.\n",
    "\n",
    "### 7. References\n",
    "\n",
    "[1] [5 Ways to Find Outliers in Your Data](https://statisticsbyjim.com/basics/outliers/)   \n",
    "[2] [A Python implementation of the Predictive Power Score](https://pypi.org/project/ppscore/)  \n",
    "[3] [Introducing Predictive Power Score](https://towardsdatascience.com/rip-correlation-introducing-the-predictive-power-score-3d90808b9598)  \n",
    "[4] [Using Ensemble techniques to One Hot Encoding](http://proceedings.mlr.press/v7/niculescu09/niculescu09.pdf)  \n",
    "[5] [Metrics to evaluate a regression model](https://towardsdatascience.com/what-are-the-best-metrics-to-evaluate-your-regression-model-418ca481755b)"
   ]
  }
 ],
 "metadata": {
  "kernelspec": {
   "display_name": "Python 3",
   "language": "python",
   "name": "python3"
  },
  "language_info": {
   "codemirror_mode": {
    "name": "ipython",
    "version": 3
   },
   "file_extension": ".py",
   "mimetype": "text/x-python",
   "name": "python",
   "nbconvert_exporter": "python",
   "pygments_lexer": "ipython3",
   "version": "3.7.6"
  }
 },
 "nbformat": 4,
 "nbformat_minor": 4
}
